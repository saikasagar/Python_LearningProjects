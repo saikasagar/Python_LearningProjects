{
  "nbformat": 4,
  "nbformat_minor": 0,
  "metadata": {
    "colab": {
      "provenance": [],
      "authorship_tag": "ABX9TyNs4CqYg1J+ty5OYAPvhsHK",
      "include_colab_link": true
    },
    "kernelspec": {
      "name": "python3",
      "display_name": "Python 3"
    },
    "language_info": {
      "name": "python"
    }
  },
  "cells": [
    {
      "cell_type": "markdown",
      "metadata": {
        "id": "view-in-github",
        "colab_type": "text"
      },
      "source": [
        "<a href=\"https://colab.research.google.com/github/saikasagar/Python_LearningProjects/blob/main/warm_up_project_exercises1.ipynb\" target=\"_parent\"><img src=\"https://colab.research.google.com/assets/colab-badge.svg\" alt=\"Open In Colab\"/></a>"
      ]
    },
    {
      "cell_type": "code",
      "execution_count": 1,
      "metadata": {
        "id": "TQqjsGLapaCd"
      },
      "outputs": [],
      "source": [
        "def display_list(myList):\n",
        "  print(myList)"
      ]
    },
    {
      "cell_type": "code",
      "source": [
        "myList = [0,1,2,3,4,5,6,7,8,9,10]\n",
        "display_list(myList)"
      ],
      "metadata": {
        "colab": {
          "base_uri": "https://localhost:8080/"
        },
        "id": "Jf-VY5FqaNae",
        "outputId": "139e4678-a67f-480a-f7aa-a06747a0f701"
      },
      "execution_count": 2,
      "outputs": [
        {
          "output_type": "stream",
          "name": "stdout",
          "text": [
            "[0, 1, 2, 3, 4, 5, 6, 7, 8, 9, 10]\n"
          ]
        }
      ]
    },
    {
      "cell_type": "markdown",
      "source": [
        "**Accepting User Input**\n",
        "\n",
        "Creating function that takes in an input from user and returns the result in the correct data type. Be careful when using the input() function, running that cell twice without providing an input value will cause python to get hung up waiting for the initial value on the first run. You will notice an In[*] next to the cell if it gets stuck, in which case, simply restart the kernel and re-run any necessary cells."
      ],
      "metadata": {
        "id": "vd9RusbSapBw"
      }
    },
    {
      "cell_type": "code",
      "source": [
        "input('please enter a desired value:')"
      ],
      "metadata": {
        "colab": {
          "base_uri": "https://localhost:8080/",
          "height": 54
        },
        "id": "oeXTruhNaZqF",
        "outputId": "5ffab94b-bae2-489b-a764-a631f3987819"
      },
      "execution_count": 4,
      "outputs": [
        {
          "name": "stdout",
          "output_type": "stream",
          "text": [
            "please enter a desired value:2\n"
          ]
        },
        {
          "output_type": "execute_result",
          "data": {
            "text/plain": [
              "'2'"
            ],
            "application/vnd.google.colaboratory.intrinsic+json": {
              "type": "string"
            }
          },
          "metadata": {},
          "execution_count": 4
        }
      ]
    },
    {
      "cell_type": "code",
      "source": [
        "result = input(\"please enter a number\")"
      ],
      "metadata": {
        "colab": {
          "base_uri": "https://localhost:8080/"
        },
        "id": "6buDMMTcbko4",
        "outputId": "fd59fbbf-1873-4aea-d72e-c8c30ecb8190"
      },
      "execution_count": 5,
      "outputs": [
        {
          "name": "stdout",
          "output_type": "stream",
          "text": [
            "please enter a number2\n"
          ]
        }
      ]
    },
    {
      "cell_type": "code",
      "source": [
        "result"
      ],
      "metadata": {
        "colab": {
          "base_uri": "https://localhost:8080/",
          "height": 35
        },
        "id": "9hzbyhsKbx7n",
        "outputId": "c7fcad91-7e7e-465b-eda1-a2082027d8a8"
      },
      "execution_count": 6,
      "outputs": [
        {
          "output_type": "execute_result",
          "data": {
            "text/plain": [
              "'2'"
            ],
            "application/vnd.google.colaboratory.intrinsic+json": {
              "type": "string"
            }
          },
          "metadata": {},
          "execution_count": 6
        }
      ]
    },
    {
      "cell_type": "code",
      "source": [
        "type(result)"
      ],
      "metadata": {
        "colab": {
          "base_uri": "https://localhost:8080/"
        },
        "id": "M3yRcbD4cKWH",
        "outputId": "50a38444-9939-4502-f1b7-c596d8726c76"
      },
      "execution_count": 7,
      "outputs": [
        {
          "output_type": "execute_result",
          "data": {
            "text/plain": [
              "str"
            ]
          },
          "metadata": {},
          "execution_count": 7
        }
      ]
    },
    {
      "cell_type": "code",
      "source": [
        "int(result)"
      ],
      "metadata": {
        "colab": {
          "base_uri": "https://localhost:8080/"
        },
        "id": "RDHe7XuRcNOP",
        "outputId": "3d5f645a-547e-46ff-ee14-14b1cf79e223"
      },
      "execution_count": 8,
      "outputs": [
        {
          "output_type": "execute_result",
          "data": {
            "text/plain": [
              "2"
            ]
          },
          "metadata": {},
          "execution_count": 8
        }
      ]
    },
    {
      "cell_type": "code",
      "source": [
        "result = int(input(\"please enter a number: \"))"
      ],
      "metadata": {
        "colab": {
          "base_uri": "https://localhost:8080/"
        },
        "id": "_RwhTZT4cQhf",
        "outputId": "6ec5f4d4-3ca0-41de-fd4d-30d3fc39a608"
      },
      "execution_count": 9,
      "outputs": [
        {
          "name": "stdout",
          "output_type": "stream",
          "text": [
            "please enter a number: 2\n"
          ]
        }
      ]
    },
    {
      "cell_type": "code",
      "source": [
        "type(result)"
      ],
      "metadata": {
        "colab": {
          "base_uri": "https://localhost:8080/"
        },
        "id": "9IUen96wcbOL",
        "outputId": "a79a8e0c-2ec9-4cf8-f2b7-2a9f9dbd8d10"
      },
      "execution_count": 10,
      "outputs": [
        {
          "output_type": "execute_result",
          "data": {
            "text/plain": [
              "int"
            ]
          },
          "metadata": {},
          "execution_count": 10
        }
      ]
    },
    {
      "cell_type": "code",
      "source": [
        "#Example of error\n",
        "result = int(input(\"please enter a number: \"))"
      ],
      "metadata": {
        "colab": {
          "base_uri": "https://localhost:8080/",
          "height": 184
        },
        "id": "vhQ-d7R_cfjj",
        "outputId": "6e19eccf-87fd-4055-a6dc-be3816abfa5b"
      },
      "execution_count": 11,
      "outputs": [
        {
          "name": "stdout",
          "output_type": "stream",
          "text": [
            "please enter a number: two\n"
          ]
        },
        {
          "output_type": "error",
          "ename": "ValueError",
          "evalue": "invalid literal for int() with base 10: 'two'",
          "traceback": [
            "\u001b[0;31m---------------------------------------------------------------------------\u001b[0m",
            "\u001b[0;31mValueError\u001b[0m                                Traceback (most recent call last)",
            "\u001b[0;32m<ipython-input-11-984acc5f6911>\u001b[0m in \u001b[0;36m<cell line: 0>\u001b[0;34m()\u001b[0m\n\u001b[1;32m      1\u001b[0m \u001b[0;31m#Example of error\u001b[0m\u001b[0;34m\u001b[0m\u001b[0;34m\u001b[0m\u001b[0m\n\u001b[0;32m----> 2\u001b[0;31m \u001b[0mresult\u001b[0m \u001b[0;34m=\u001b[0m \u001b[0mint\u001b[0m\u001b[0;34m(\u001b[0m\u001b[0minput\u001b[0m\u001b[0;34m(\u001b[0m\u001b[0;34m\"please enter a number: \"\u001b[0m\u001b[0;34m)\u001b[0m\u001b[0;34m)\u001b[0m\u001b[0;34m\u001b[0m\u001b[0;34m\u001b[0m\u001b[0m\n\u001b[0m",
            "\u001b[0;31mValueError\u001b[0m: invalid literal for int() with base 10: 'two'"
          ]
        }
      ]
    },
    {
      "cell_type": "markdown",
      "source": [
        "**Creating a function to hold this logic**"
      ],
      "metadata": {
        "id": "F6SNg-5GdVBn"
      }
    },
    {
      "cell_type": "code",
      "source": [
        "def user_choice():\n",
        "  '''\n",
        "  User inputs a number (0-10) and we return this in integer form.\n",
        "  no parameters is passed when calling this function.\n",
        "\n",
        "  '''\n",
        "  choice = input(\"Plese input a number (0-10): \")\n",
        "  return int(choice)"
      ],
      "metadata": {
        "id": "rqrb7MHSdIFg"
      },
      "execution_count": 12,
      "outputs": []
    },
    {
      "cell_type": "code",
      "source": [
        "user_choice()"
      ],
      "metadata": {
        "colab": {
          "base_uri": "https://localhost:8080/"
        },
        "id": "tX0-8eVmfmnb",
        "outputId": "b43e0fab-de31-45b8-f0b2-996f2255ba7f"
      },
      "execution_count": 13,
      "outputs": [
        {
          "name": "stdout",
          "output_type": "stream",
          "text": [
            "Plese input a number (0-10): 9\n"
          ]
        },
        {
          "output_type": "execute_result",
          "data": {
            "text/plain": [
              "9"
            ]
          },
          "metadata": {},
          "execution_count": 13
        }
      ]
    },
    {
      "cell_type": "code",
      "source": [
        "result = user_choice()"
      ],
      "metadata": {
        "colab": {
          "base_uri": "https://localhost:8080/"
        },
        "id": "Fm_unq3kfpje",
        "outputId": "0b71e8bd-50c9-4151-b64b-aabe25e933a8"
      },
      "execution_count": 14,
      "outputs": [
        {
          "name": "stdout",
          "output_type": "stream",
          "text": [
            "Plese input a number (0-10): 3\n"
          ]
        }
      ]
    },
    {
      "cell_type": "code",
      "source": [
        "result"
      ],
      "metadata": {
        "colab": {
          "base_uri": "https://localhost:8080/"
        },
        "id": "7KmKL5UxfxAi",
        "outputId": "7673bbcc-aa15-401b-9279-b1f6d350683b"
      },
      "execution_count": 15,
      "outputs": [
        {
          "output_type": "execute_result",
          "data": {
            "text/plain": [
              "3"
            ]
          },
          "metadata": {},
          "execution_count": 15
        }
      ]
    },
    {
      "cell_type": "code",
      "source": [
        "type(result)"
      ],
      "metadata": {
        "colab": {
          "base_uri": "https://localhost:8080/"
        },
        "id": "5hAwVYimfzhy",
        "outputId": "5b2a8ac2-54cc-4e26-b9fa-018d7bcccc1b"
      },
      "execution_count": 16,
      "outputs": [
        {
          "output_type": "execute_result",
          "data": {
            "text/plain": [
              "int"
            ]
          },
          "metadata": {},
          "execution_count": 16
        }
      ]
    },
    {
      "cell_type": "markdown",
      "source": [
        "**Validating User Input**\n",
        " **Check that input is valid before attempting to convert****\n",
        " we will use a simple method here.\n",
        " as you get more advanced you can start looking at other ways of doing this(these methods will make more sense later on in the course , so dont worry about them now)\n",
        ""
      ],
      "metadata": {
        "id": "4zslQQsYf7Yj"
      }
    },
    {
      "cell_type": "code",
      "source": [
        "some_input = '10'"
      ],
      "metadata": {
        "id": "SzSicnO2f5ou"
      },
      "execution_count": 17,
      "outputs": []
    },
    {
      "cell_type": "code",
      "source": [
        "#lot's of .is methods is available on string\n",
        "some_input.isdigit()"
      ],
      "metadata": {
        "colab": {
          "base_uri": "https://localhost:8080/"
        },
        "id": "6CxT2jOSmDHZ",
        "outputId": "45a2f2cf-1870-4a6c-e840-5db53c32e313"
      },
      "execution_count": 18,
      "outputs": [
        {
          "output_type": "execute_result",
          "data": {
            "text/plain": [
              "True"
            ]
          },
          "metadata": {},
          "execution_count": 18
        }
      ]
    },
    {
      "cell_type": "code",
      "source": [],
      "metadata": {
        "colab": {
          "base_uri": "https://localhost:8080/"
        },
        "id": "OqRJGy0HmSCI",
        "outputId": "2fa29599-7af5-42f0-bb9f-7c458c89f785"
      },
      "execution_count": 19,
      "outputs": [
        {
          "output_type": "execute_result",
          "data": {
            "text/plain": [
              "True"
            ]
          },
          "metadata": {},
          "execution_count": 19
        }
      ]
    },
    {
      "cell_type": "markdown",
      "source": [
        "**Edit the function to confirm against an acceptable value or type**"
      ],
      "metadata": {
        "id": "-8WGo2FQmbbh"
      }
    },
    {
      "cell_type": "code",
      "source": [
        "def user_choice():\n",
        "  #this orginal choice value can be anything that is'nt an integer\n",
        "  choice = 'wrong'\n",
        "\n",
        "  #While the choice is not a digit ,keep asking for input.\n",
        "  while choice.isdigit() == False:\n",
        "      #We shouldn't convert here, otherwise we get an error on a wrong input\n",
        "      choice = input(\"Choose a number: \")\n",
        "    #we can convert once the while loop above has confirmed we have a digit.\n",
        "  return int(choice)"
      ],
      "metadata": {
        "id": "crrpYuHdmXd8"
      },
      "execution_count": 28,
      "outputs": []
    },
    {
      "cell_type": "code",
      "source": [
        "user_choice()"
      ],
      "metadata": {
        "colab": {
          "base_uri": "https://localhost:8080/"
        },
        "id": "TDKFgT2Fo8Wg",
        "outputId": "3de02825-6b64-486c-f85e-c59b6c86d5bc"
      },
      "execution_count": 29,
      "outputs": [
        {
          "name": "stdout",
          "output_type": "stream",
          "text": [
            "Choose a number: hello\n",
            "Choose a number: two\n",
            "Choose a number: eleven\n",
            "Choose a number: 2\n"
          ]
        },
        {
          "output_type": "execute_result",
          "data": {
            "text/plain": [
              "2"
            ]
          },
          "metadata": {},
          "execution_count": 29
        }
      ]
    },
    {
      "cell_type": "markdown",
      "source": [
        "**let's try adding an error message within the While loop!**"
      ],
      "metadata": {
        "id": "X32wdPa1tgzP"
      }
    },
    {
      "cell_type": "code",
      "source": [
        "def user_choice():\n",
        "  choice = 'wrong'\n",
        "  while choice.isdigit() == False:\n",
        "    choice = input(\"choose a number: \")\n",
        "    if choice.isdigit() == False:\n",
        "      print(\"sorry you didn't enter an integer.Please try again\")\n",
        "  return int(choice)"
      ],
      "metadata": {
        "id": "Mf74ysM1q8Uj"
      },
      "execution_count": 30,
      "outputs": []
    },
    {
      "cell_type": "code",
      "source": [
        "user_choice()"
      ],
      "metadata": {
        "colab": {
          "base_uri": "https://localhost:8080/"
        },
        "id": "OgILELUruZ4O",
        "outputId": "581469e8-b83d-4fa1-a23f-544aadbdcdda"
      },
      "execution_count": 31,
      "outputs": [
        {
          "name": "stdout",
          "output_type": "stream",
          "text": [
            "choose a number: hello\n",
            "sorry you didn't enter an integer.Please try again\n",
            "choose a number: two\n",
            "sorry you didn't enter an integer.Please try again\n",
            "choose a number: 2\n"
          ]
        },
        {
          "output_type": "execute_result",
          "data": {
            "text/plain": [
              "2"
            ]
          },
          "metadata": {},
          "execution_count": 31
        }
      ]
    },
    {
      "cell_type": "markdown",
      "source": [
        "**Now let's explore how to \"clear\" the output,that way we don't see the history of the \"choose number\" statements.**\n",
        "**NOTE: jupyter Notebook users will use the Ipython method shown here.Other IDE users (PyCharm,VS, etc..) will use **"
      ],
      "metadata": {
        "id": "5HD9PBORwsvC"
      }
    },
    {
      "cell_type": "code",
      "source": [
        "from IPython.display import clear_output\n",
        "clear_output()"
      ],
      "metadata": {
        "id": "zjitMhv9ubXq"
      },
      "execution_count": 33,
      "outputs": []
    },
    {
      "cell_type": "code",
      "source": [
        "def user_choice():\n",
        "  choice = 'wrong'\n",
        "  while choice.isdigit()== False:\n",
        "    choice = input(\"choose a number: \")\n",
        "    if choice.isdigit()== False:\n",
        "      #THIS CLEARS THE CURRENT OUTPUT BELOW THE CELL\n",
        "      clear_output()\n",
        "      print(\"sorry,but you didnot enter an integer.please try again.\")\n",
        "\n",
        "  #Optionally you can clear everything after running the function\n",
        "  #clear_output()\n",
        "  #We can convert once the while loop above has confirmed we have a digit.\n",
        "  return int(choice)\n"
      ],
      "metadata": {
        "id": "LI5bU20jyFrl"
      },
      "execution_count": 34,
      "outputs": []
    },
    {
      "cell_type": "code",
      "source": [
        "user_choice()"
      ],
      "metadata": {
        "colab": {
          "base_uri": "https://localhost:8080/"
        },
        "id": "bWX-5zExzek4",
        "outputId": "9c4eb1f0-0784-4ee2-9620-317f4c180309"
      },
      "execution_count": 35,
      "outputs": [
        {
          "name": "stdout",
          "output_type": "stream",
          "text": [
            "sorry,but you didnot enter an integer.please try again.\n",
            "choose a number: 3\n"
          ]
        },
        {
          "output_type": "execute_result",
          "data": {
            "text/plain": [
              "3"
            ]
          },
          "metadata": {},
          "execution_count": 35
        }
      ]
    },
    {
      "cell_type": "markdown",
      "source": [
        "**Checking against multiple possible Values** (A little confusing)"
      ],
      "metadata": {
        "id": "YUka5dHX0Hop"
      }
    },
    {
      "cell_type": "code",
      "source": [
        "result = \"wrong value\"\n",
        "acceptable_values = ['0','1','2']\n"
      ],
      "metadata": {
        "id": "2-lt7Pmtzg3k"
      },
      "execution_count": 36,
      "outputs": []
    },
    {
      "cell_type": "code",
      "source": [
        "result"
      ],
      "metadata": {
        "colab": {
          "base_uri": "https://localhost:8080/",
          "height": 35
        },
        "id": "I30cvLO2-NBV",
        "outputId": "d2ca15ae-82ba-4b17-ee9b-c70004cf2383"
      },
      "execution_count": 37,
      "outputs": [
        {
          "output_type": "execute_result",
          "data": {
            "text/plain": [
              "'wrong value'"
            ],
            "application/vnd.google.colaboratory.intrinsic+json": {
              "type": "string"
            }
          },
          "metadata": {},
          "execution_count": 37
        }
      ]
    },
    {
      "cell_type": "code",
      "source": [
        "result in acceptable_values"
      ],
      "metadata": {
        "colab": {
          "base_uri": "https://localhost:8080/"
        },
        "id": "yPKi2noM-Oih",
        "outputId": "4c3a57e3-c02c-4d03-e8fe-2c77ddc9886e"
      },
      "execution_count": 38,
      "outputs": [
        {
          "output_type": "execute_result",
          "data": {
            "text/plain": [
              "False"
            ]
          },
          "metadata": {},
          "execution_count": 38
        }
      ]
    },
    {
      "cell_type": "code",
      "source": [
        "result not in acceptable_values"
      ],
      "metadata": {
        "colab": {
          "base_uri": "https://localhost:8080/"
        },
        "id": "qAHoS6lO-TTt",
        "outputId": "c04a7e7e-3783-4778-a2dc-63ac82f6aa6b"
      },
      "execution_count": 39,
      "outputs": [
        {
          "output_type": "execute_result",
          "data": {
            "text/plain": [
              "True"
            ]
          },
          "metadata": {},
          "execution_count": 39
        }
      ]
    },
    {
      "cell_type": "code",
      "source": [
        "from IPython.display import clear_output\n",
        "clear_output()"
      ],
      "metadata": {
        "id": "NpC6nyRI-WW-"
      },
      "execution_count": 43,
      "outputs": []
    },
    {
      "cell_type": "code",
      "source": [
        "def user_choice():\n",
        "  choice = 'wrong'\n",
        "  while choice not in ['0','1','2']:\n",
        "    choice = input(\"Choose one of these numbers(0,1,2): \")\n",
        "    if choice not in ['0','1','2']:\n",
        "      clear_output()\n",
        "      print(\"sorry, but you did not choose a value in the correct range(0,1,2)\")\n",
        "  return int(choice)"
      ],
      "metadata": {
        "id": "ajh80xcI-iL9"
      },
      "execution_count": 44,
      "outputs": []
    },
    {
      "cell_type": "code",
      "source": [
        "user_choice()"
      ],
      "metadata": {
        "colab": {
          "base_uri": "https://localhost:8080/"
        },
        "id": "LaQlhoGmDhEo",
        "outputId": "9ef92371-a3c9-48e2-c8bf-f72fc71be2b0"
      },
      "execution_count": 45,
      "outputs": [
        {
          "name": "stdout",
          "output_type": "stream",
          "text": [
            "sorry, but you did not choose a value in the correct range(0,1,2)\n",
            "Choose one of these numbers(0,1,2): 2\n"
          ]
        },
        {
          "output_type": "execute_result",
          "data": {
            "text/plain": [
              "2"
            ]
          },
          "metadata": {},
          "execution_count": 45
        }
      ]
    },
    {
      "cell_type": "code",
      "source": [],
      "metadata": {
        "id": "jx_Cda60Dor4"
      },
      "execution_count": null,
      "outputs": []
    }
  ]
}